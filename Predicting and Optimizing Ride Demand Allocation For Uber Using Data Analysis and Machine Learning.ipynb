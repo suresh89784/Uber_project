{
 "cells": [
  {
   "cell_type": "markdown",
   "metadata": {},
   "source": [
    "# Predicting and Optimizing Ride Demand Allocation For Uber Using Data Analysis and Machine Learning "
   ]
  },
  {
   "cell_type": "markdown",
   "metadata": {},
   "source": [
    "## Goal \n",
    "- The goal for this project is to predict and optimize ride demand allocation for Uber by leveraging data analysis and machine learning techniques. This involves developing models to forecast ride demand in different locations and times, optimizing driver allocation to meet demand efficiently, reducing wait times for passengers, maximizing driver utilization, and ultimately enhancing the overall user experience and operational efficiency of the Uber platform."
   ]
  },
  {
   "cell_type": "markdown",
   "metadata": {},
   "source": [
    "## Feature Analysis"
   ]
  },
  {
   "cell_type": "markdown",
   "metadata": {},
   "source": [
    "###### Time of Day:\n",
    "- Indicates the time period of the day when the data was recorded, categorized as \"Morning,\" \"Afternoon,\" \"Evening,\" or \"Night.\"\n",
    "\n",
    "###### Day of Week:\n",
    "- Represents the day of the week when the data was recorded, such as \"Monday,\" \"Tuesday,\" etc.\n",
    "\n",
    "###### Weather:\n",
    "- Describes the prevailing weather condition at the time of data recording, such as \"Sunny,\" \"Rainy,\" or \"Cloudy.\"\n",
    "\n",
    "###### Temperature (°C):\n",
    "- Represents the temperature in degrees Celsius at the time of data recording.\n",
    "\n",
    "###### Ride Demand:\n",
    "- Indicates the level of demand for rides, categorized as \"Low,\" \"Medium,\" or \"High.\"\n",
    "\n",
    "###### Driver Availability:\n",
    "- Represents the availability of drivers for providing rides, categorized as \"Low,\" \"Medium,\" or \"High.\"\n",
    "\n",
    "###### Traffic Congestion:\n",
    "- Indicates the level of traffic congestion, categorized as \"Low,\" \"Medium,\" or \"High.\"\n",
    "\n",
    "###### Area:\n",
    "- Represents the geographical area where the data was recorded, such as \"Downtown\" or \"Suburbs.\""
   ]
  },
  {
   "cell_type": "markdown",
   "metadata": {},
   "source": [
    "# Libraries"
   ]
  },
  {
   "cell_type": "code",
   "execution_count": 14,
   "metadata": {},
   "outputs": [],
   "source": [
    "import numpy as np\n",
    "import pandas as pd\n",
    "import matplotlib.pyplot as plt\n",
    "import seaborn as sns\n",
    "from sklearn.model_selection import train_test_split\n",
    "from sklearn.ensemble import RandomForestClassifier\n",
    "from sklearn.neighbors import KNeighborsClassifier\n",
    "from sklearn.metrics import accuracy_score, confusion_matrix"
   ]
  },
  {
   "cell_type": "markdown",
   "metadata": {},
   "source": [
    "## Data"
   ]
  },
  {
   "cell_type": "code",
   "execution_count": 15,
   "metadata": {},
   "outputs": [
    {
     "data": {
      "text/html": [
       "<div>\n",
       "<style scoped>\n",
       "    .dataframe tbody tr th:only-of-type {\n",
       "        vertical-align: middle;\n",
       "    }\n",
       "\n",
       "    .dataframe tbody tr th {\n",
       "        vertical-align: top;\n",
       "    }\n",
       "\n",
       "    .dataframe thead th {\n",
       "        text-align: right;\n",
       "    }\n",
       "</style>\n",
       "<table border=\"1\" class=\"dataframe\">\n",
       "  <thead>\n",
       "    <tr style=\"text-align: right;\">\n",
       "      <th></th>\n",
       "      <th>Time of Day</th>\n",
       "      <th>Day of Week</th>\n",
       "      <th>Weather</th>\n",
       "      <th>Temperature (°C)</th>\n",
       "      <th>Ride Demand</th>\n",
       "      <th>Driver Availability</th>\n",
       "      <th>Traffic Congestion</th>\n",
       "      <th>Area</th>\n",
       "    </tr>\n",
       "  </thead>\n",
       "  <tbody>\n",
       "    <tr>\n",
       "      <th>0</th>\n",
       "      <td>Evening</td>\n",
       "      <td>Saturday</td>\n",
       "      <td>Rainy</td>\n",
       "      <td>26</td>\n",
       "      <td>Medium</td>\n",
       "      <td>Medium</td>\n",
       "      <td>Low</td>\n",
       "      <td>Downtown</td>\n",
       "    </tr>\n",
       "    <tr>\n",
       "      <th>1</th>\n",
       "      <td>Night</td>\n",
       "      <td>Sunday</td>\n",
       "      <td>Rainy</td>\n",
       "      <td>25</td>\n",
       "      <td>Low</td>\n",
       "      <td>Low</td>\n",
       "      <td>High</td>\n",
       "      <td>Suburbs</td>\n",
       "    </tr>\n",
       "    <tr>\n",
       "      <th>2</th>\n",
       "      <td>Morning</td>\n",
       "      <td>Monday</td>\n",
       "      <td>Sunny</td>\n",
       "      <td>24</td>\n",
       "      <td>High</td>\n",
       "      <td>Medium</td>\n",
       "      <td>Low</td>\n",
       "      <td>Suburbs</td>\n",
       "    </tr>\n",
       "    <tr>\n",
       "      <th>3</th>\n",
       "      <td>Evening</td>\n",
       "      <td>Monday</td>\n",
       "      <td>Cloudy</td>\n",
       "      <td>17</td>\n",
       "      <td>Medium</td>\n",
       "      <td>Low</td>\n",
       "      <td>Low</td>\n",
       "      <td>Suburbs</td>\n",
       "    </tr>\n",
       "    <tr>\n",
       "      <th>4</th>\n",
       "      <td>Evening</td>\n",
       "      <td>Monday</td>\n",
       "      <td>Cloudy</td>\n",
       "      <td>17</td>\n",
       "      <td>Medium</td>\n",
       "      <td>High</td>\n",
       "      <td>High</td>\n",
       "      <td>Downtown</td>\n",
       "    </tr>\n",
       "  </tbody>\n",
       "</table>\n",
       "</div>"
      ],
      "text/plain": [
       "  Time of Day Day of Week Weather  Temperature (°C) Ride Demand  \\\n",
       "0     Evening    Saturday   Rainy                26      Medium   \n",
       "1       Night      Sunday   Rainy                25         Low   \n",
       "2     Morning      Monday   Sunny                24        High   \n",
       "3     Evening      Monday  Cloudy                17      Medium   \n",
       "4     Evening      Monday  Cloudy                17      Medium   \n",
       "\n",
       "  Driver Availability Traffic Congestion      Area  \n",
       "0              Medium                Low  Downtown  \n",
       "1                 Low               High   Suburbs  \n",
       "2              Medium                Low   Suburbs  \n",
       "3                 Low                Low   Suburbs  \n",
       "4                High               High  Downtown  "
      ]
     },
     "execution_count": 15,
     "metadata": {},
     "output_type": "execute_result"
    }
   ],
   "source": [
    "import numpy as np\n",
    "import pandas as pd\n",
    "\n",
    "# Try reading the CSV file with a different encoding\n",
    "df = pd.read_csv('ride_demand_allocation_dataset.csv')\n",
    "\n",
    "# Display the first few rows of the DataFrame\n",
    "df.head()"
   ]
  },
  {
   "cell_type": "markdown",
   "metadata": {},
   "source": [
    "# Exploratory Data Analysis"
   ]
  },
  {
   "cell_type": "markdown",
   "metadata": {},
   "source": [
    "## Summary statistics"
   ]
  },
  {
   "cell_type": "code",
   "execution_count": 16,
   "metadata": {},
   "outputs": [
    {
     "name": "stdout",
     "output_type": "stream",
     "text": [
      "       Temperature (°C)\n",
      "count        1000.00000\n",
      "mean           21.96000\n",
      "std             4.38379\n",
      "min            15.00000\n",
      "25%            18.00000\n",
      "50%            22.00000\n",
      "75%            26.00000\n",
      "max            29.00000\n"
     ]
    }
   ],
   "source": [
    "print(df.describe()) "
   ]
  },
  {
   "cell_type": "markdown",
   "metadata": {},
   "source": [
    "### Distribution of categorical features"
   ]
  },
  {
   "cell_type": "code",
   "execution_count": 17,
   "metadata": {},
   "outputs": [
    {
     "data": {
      "image/png": "[encoded data removed]",
      "text/plain": [
       "<Figure size 1080x720 with 7 Axes>"
      ]
     },
     "metadata": {
      "needs_background": "light"
     },
     "output_type": "display_data"
    }
   ],
   "source": [
    "plt.figure(figsize=(15, 10))\n",
    "\n",
    "plt.subplot(3, 3, 1)\n",
    "sns.countplot(x='Time of Day', data=df, order=['Morning', 'Afternoon', 'Evening', 'Night'])\n",
    "plt.title('Distribution of Time of Day')\n",
    "\n",
    "plt.subplot(3, 3, 2)\n",
    "sns.countplot(x='Day of Week', data=df, order=['Monday', 'Tuesday', 'Wednesday', 'Thursday', 'Friday', 'Saturday', 'Sunday'])\n",
    "plt.title('Distribution of Day of Week')\n",
    "\n",
    "plt.subplot(3, 3, 3)\n",
    "sns.countplot(x='Weather', data=df, order=['Sunny', 'Rainy', 'Cloudy', 'Clear'])\n",
    "plt.title('Distribution of Weather')\n",
    "\n",
    "plt.subplot(3, 3, 4)\n",
    "sns.countplot(x='Ride Demand', data=df, order=['Low', 'Medium', 'High'])\n",
    "plt.title('Distribution of Ride Demand')\n",
    "\n",
    "plt.subplot(3, 3, 5)\n",
    "sns.countplot(x='Driver Availability', data=df, order=['Low', 'Medium', 'High'])\n",
    "plt.title('Distribution of Driver Availability')\n",
    "\n",
    "plt.subplot(3, 3, 6)\n",
    "sns.countplot(x='Traffic Congestion', data=df, order=['Low', 'Medium', 'High'])\n",
    "plt.title('Distribution of Traffic Congestion')\n",
    "\n",
    "plt.subplot(3, 3, 7)\n",
    "sns.countplot(x='Area', data=df, order=['Downtown', 'Suburbs'])\n",
    "plt.title('Distribution of Area')\n",
    "\n",
    "plt.tight_layout()\n",
    "plt.show()"
   ]
  },
  {
   "cell_type": "markdown",
   "metadata": {},
   "source": [
    "### Relationship between features and ride demand"
   ]
  },
  {
   "cell_type": "code",
   "execution_count": 18,
   "metadata": {},
   "outputs": [
    {
     "data": {
      "image/png": "[encoded data removed]",
      "text/plain": [
       "<Figure size 432x288 with 1 Axes>"
      ]
     },
     "metadata": {
      "needs_background": "light"
     },
     "output_type": "display_data"
    }
   ],
   "source": [
    "import seaborn as sns\n",
    "import matplotlib.pyplot as plt\n",
    "\n",
    "# Example scatter plot for Temperature vs. Ride Demand\n",
    "sns.scatterplot(x='Temperature (°C)', y='Ride Demand', data=df)\n",
    "plt.title('Temperature vs. Ride Demand')\n",
    "plt.show()"
   ]
  },
  {
   "cell_type": "markdown",
   "metadata": {},
   "source": [
    "# Correlation Matrix"
   ]
  },
  {
   "cell_type": "code",
   "execution_count": 19,
   "metadata": {},
   "outputs": [
    {
     "data": {
      "image/png": "[encoded data removed]",
      "text/plain": [
       "<Figure size 432x288 with 2 Axes>"
      ]
     },
     "metadata": {
      "needs_background": "light"
     },
     "output_type": "display_data"
    }
   ],
   "source": [
    "# Compute correlation matrix\n",
    "corr_matrix = df.corr()\n",
    "\n",
    "# Plot heatmap\n",
    "sns.heatmap(corr_matrix, annot=True, cmap='coolwarm')\n",
    "plt.title('Correlation Matrix')\n",
    "plt.show()"
   ]
  },
  {
   "cell_type": "markdown",
   "metadata": {},
   "source": [
    "### Graph Shows\n",
    "- A correlation matrix shows the strength and direction of relationships between pairs of variables. \n",
    "- A correlation value of 1 means that there is a perfect positive relationship: as one variable increases, the other variable also increases perfectly in sync. In simple terms, they move together perfectly."
   ]
  },
  {
   "cell_type": "markdown",
   "metadata": {},
   "source": [
    "# Machine Learning Model "
   ]
  },
  {
   "cell_type": "code",
   "execution_count": 20,
   "metadata": {},
   "outputs": [],
   "source": [
    "# Load the dataset\n",
    "df = pd.read_csv(\"ride_demand_allocation_dataset.csv\")\n",
    "\n",
    "# Separate features (X) and target variable (y)\n",
    "X = df.drop('Ride Demand', axis=1)\n",
    "y = df['Ride Demand']\n",
    "\n",
    "# Convert categorical variables into dummy/indicator variables\n",
    "X = pd.get_dummies(X)\n",
    "\n",
    "# Split the dataset into training and testing sets (80% train, 20% test)\n",
    "X_train, X_test, y_train, y_test = train_test_split(X, y, test_size=0.2, random_state=42)\n",
    "\n",
    "# Initialize classifiers\n",
    "classifiers = {\n",
    "    'Random Forest': RandomForestClassifier(n_estimators=100, random_state=42),\n",
    "    'KNN': KNeighborsClassifier(n_neighbors=5)\n",
    "}"
   ]
  },
  {
   "cell_type": "markdown",
   "metadata": {},
   "source": [
    "# Model Evaluation\n",
    "- Find Accuracy_score"
   ]
  },
  {
   "cell_type": "code",
   "execution_count": 12,
   "metadata": {},
   "outputs": [
    {
     "name": "stdout",
     "output_type": "stream",
     "text": [
      "Random Forest: Accuracy = 0.2850\n",
      "KNN: Accuracy = 0.2950\n"
     ]
    }
   ],
   "source": [
    "# Train and evaluate each classifier\n",
    "results = {}\n",
    "for name, clf in classifiers.items():\n",
    "    clf.fit(X_train, y_train)\n",
    "    y_pred = clf.predict(X_test)\n",
    "    accuracy = accuracy_score(y_test, y_pred)\n",
    "    results[name] = accuracy\n",
    "# Display results\n",
    "for name, accuracy in results.items():\n",
    "    print(f'{name}: Accuracy = {accuracy:.4f}')"
   ]
  },
  {
   "cell_type": "markdown",
   "metadata": {},
   "source": [
    "# Confusion Matrix Analysis"
   ]
  },
  {
   "cell_type": "code",
   "execution_count": 8,
   "metadata": {},
   "outputs": [
    {
     "data": {
      "image/png": "[encoded data removed]",
      "text/plain": [
       "<Figure size 432x288 with 2 Axes>"
      ]
     },
     "metadata": {
      "needs_background": "light"
     },
     "output_type": "display_data"
    },
    {
     "data": {
      "image/png": "[encoded data removed]",
      "text/plain": [
       "<Figure size 432x288 with 2 Axes>"
      ]
     },
     "metadata": {
      "needs_background": "light"
     },
     "output_type": "display_data"
    }
   ],
   "source": [
    "# Initialize classifiers\n",
    "classifiers = {\n",
    "    'Random Forest': RandomForestClassifier(n_estimators=100, random_state=42),\n",
    "    'KNN': KNeighborsClassifier(n_neighbors=5)\n",
    "}\n",
    "\n",
    "# Train and evaluate each classifier\n",
    "for name, clf in classifiers.items():\n",
    "    clf.fit(X_train, y_train)\n",
    "    y_pred = clf.predict(X_test)\n",
    "    cm = confusion_matrix(y_test, y_pred)\n",
    "    \n",
    "    # Plot confusion matrix\n",
    "    plt.figure(figsize=(6, 4))\n",
    "    sns.heatmap(cm, annot=True, fmt='d', cmap='Blues')\n",
    "    plt.title(f'Confusion Matrix - {name}')\n",
    "    plt.xlabel('Predicted labels')\n",
    "    plt.ylabel('True labels')\n",
    "    plt.show()"
   ]
  },
  {
   "cell_type": "markdown",
   "metadata": {},
   "source": [
    "# Final Modal "
   ]
  },
  {
   "cell_type": "code",
   "execution_count": 13,
   "metadata": {},
   "outputs": [
    {
     "name": "stdout",
     "output_type": "stream",
     "text": [
      "Enter time of day (Morning/Afternoon/Evening/Night): Night\n",
      "Enter day of week (Monday/Tuesday/Wednesday/Thursday/Friday/Saturday/Sunday): Monday\n",
      "Enter weather (Sunny/Rainy/Cloudy/Clear): Rainy\n",
      "Enter temperature (°C): 45\n",
      "Enter driver availability (Low/Medium/High): Low\n",
      "Enter traffic congestion (Low/Medium/High): HIgh\n",
      "Enter area (Downtown/Suburbs): Downtown\n",
      "Predicted Ride Demand: High\n"
     ]
    }
   ],
   "source": [
    "# Load the dataset\n",
    "df = pd.read_csv(\"ride_demand_allocation_dataset.csv\")\n",
    "\n",
    "# Separate features (X) and target variable (y)\n",
    "X = df.drop('Ride Demand', axis=1)\n",
    "y = df['Ride Demand']\n",
    "\n",
    "# Convert categorical variables into dummy/indicator variables\n",
    "X = pd.get_dummies(X)\n",
    "\n",
    "# Initialize and train the Random Forest classifier\n",
    "rf_classifier = RandomForestClassifier(n_estimators=100, random_state=42)\n",
    "rf_classifier.fit(X, y)\n",
    "\n",
    "# Function to accept user input and make prediction\n",
    "def predict_ride_demand():\n",
    "    # Accept user input for each feature\n",
    "    time_of_day = input(\"Enter time of day (Morning/Afternoon/Evening/Night): \")\n",
    "    day_of_week = input(\"Enter day of week (Monday/Tuesday/Wednesday/Thursday/Friday/Saturday/Sunday): \")\n",
    "    weather = input(\"Enter weather (Sunny/Rainy/Cloudy/Clear): \")\n",
    "    temperature = float(input(\"Enter temperature (°C): \"))\n",
    "    driver_availability = input(\"Enter driver availability (Low/Medium/High): \")\n",
    "    traffic_congestion = input(\"Enter traffic congestion (Low/Medium/High): \")\n",
    "    area = input(\"Enter area (Downtown/Suburbs): \")\n",
    "    \n",
    "    # Create DataFrame with user input\n",
    "    input_data = {\n",
    "        'Time of Day': [time_of_day],\n",
    "        'Day of Week': [day_of_week],\n",
    "        'Weather': [weather],\n",
    "        'Temperature (°C)': [temperature],\n",
    "        'Driver Availability': [driver_availability],\n",
    "        'Traffic Congestion': [traffic_congestion],\n",
    "        'Area': [area]\n",
    "    }\n",
    "    input_df = pd.DataFrame(input_data)\n",
    "    \n",
    "    # Convert categorical variables into dummy/indicator variables\n",
    "    input_df = pd.get_dummies(input_df)\n",
    "    \n",
    "    # Ensure input DataFrame has the same columns as the original dataset\n",
    "    missing_cols = set(X.columns) - set(input_df.columns)\n",
    "    for col in missing_cols:\n",
    "        input_df[col] = 0\n",
    "    \n",
    "    # Reorder columns to match the original dataset\n",
    "    input_df = input_df[X.columns]\n",
    "    \n",
    "    # Make prediction\n",
    "    prediction = rf_classifier.predict(input_df)\n",
    "    return prediction[0]\n",
    "\n",
    "# Make prediction\n",
    "prediction = predict_ride_demand()\n",
    "print(\"Predicted Ride Demand:\", prediction)"
   ]
  }
 ],
 "metadata": {
  "kernelspec": {
   "display_name": "Python 3 (ipykernel)",
   "language": "python",
   "name": "python3"
  },
  "language_info": {
   "codemirror_mode": {
    "name": "ipython",
    "version": 3
   },
   "file_extension": ".py",
   "mimetype": "text/x-python",
   "name": "python",
   "nbconvert_exporter": "python",
   "pygments_lexer": "ipython3",
   "version": "3.9.12"
  }
 },
 "nbformat": 4,
 "nbformat_minor": 2
}
